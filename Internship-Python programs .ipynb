{
 "cells": [
  {
   "cell_type": "code",
   "execution_count": 1,
   "id": "e0ee0709",
   "metadata": {},
   "outputs": [
    {
     "name": "stdout",
     "output_type": "stream",
     "text": [
      "5\n",
      "The factorial of 5 is 120\n"
     ]
    }
   ],
   "source": [
    "# A python program to find factorial of a number\n",
    "\n",
    "num = int(input())\n",
    "\n",
    "factorial = 1\n",
    "\n",
    "# check if the number is negative, positive or zero\n",
    "\n",
    "if num < 0:\n",
    "\n",
    "    print(\"Sorry, factorial does not exist for negative numbers\")\n",
    "\n",
    "elif num == 0:\n",
    "\n",
    "    print(\"The factorial of 0 is 1\")\n",
    "\n",
    "else:\n",
    "\n",
    "    for i in range(1,num +  1):\n",
    "\n",
    "        factorial = factorial*i\n",
    "\n",
    "    print(\"The factorial of\",num,\"is\",factorial)"
   ]
  },
  {
   "cell_type": "code",
   "execution_count": 4,
   "id": "d581e82b",
   "metadata": {},
   "outputs": [
    {
     "name": "stdout",
     "output_type": "stream",
     "text": [
      "Enter the number to check prime or composite: 20\n",
      "The number is composite number\n"
     ]
    }
   ],
   "source": [
    "# A python program to find whether a number is prime or composite\n",
    "\n",
    "number=int(input(\"Enter the number to check prime or composite: \"))#Take the number from the user.\n",
    "\n",
    "count=0\n",
    "\n",
    "for i in range(2,int(number/2)+1): #Loop which is used to dive the number from other number.\n",
    "\n",
    "   if(number%i==0):\n",
    "\n",
    "       count=1\n",
    "\n",
    "       break\n",
    "\n",
    "if(count==0):\n",
    "\n",
    "   print(\"The number is prime number\")#For prime number.\n",
    "\n",
    "else:\n",
    "\n",
    "   print(\"The number is composite number\")#For composite number."
   ]
  },
  {
   "cell_type": "code",
   "execution_count": 5,
   "id": "05c0e493",
   "metadata": {},
   "outputs": [
    {
     "name": "stdout",
     "output_type": "stream",
     "text": [
      "The string is not a palindrome.\n"
     ]
    }
   ],
   "source": [
    "# Program to check if a string is palindrome or not\n",
    "\n",
    "my_str = 'pEaCemAkER'\n",
    "\n",
    "# make it suitable for caseless comparison\n",
    "my_str = my_str.casefold()\n",
    "\n",
    "# reverse the string\n",
    "rev_str = reversed(my_str)\n",
    "\n",
    "# check if the string is equal to its reverse\n",
    "if list(my_str) == list(rev_str):\n",
    "   print(\"The string is a palindrome.\")\n",
    "else:\n",
    "   print(\"The string is not a palindrome.\")\n",
    "    "
   ]
  },
  {
   "cell_type": "code",
   "execution_count": 7,
   "id": "8755b46f",
   "metadata": {},
   "outputs": [
    {
     "name": "stdout",
     "output_type": "stream",
     "text": [
      "Enter base: 9\n",
      "Enter height: 7\n",
      "Enter angle: 60\n",
      "Hypotenuse = 11.40175425099138\n"
     ]
    }
   ],
   "source": [
    "# Python program to get the third side of right-angled triangle from two given sides.\n",
    "\n",
    "import math\n",
    "\n",
    "a = float(input(\"Enter base: \"))\n",
    "b = float(input(\"Enter height: \"))\n",
    "x = float(input(\"Enter angle: \"))\n",
    "\n",
    "c = math.sqrt(a ** 2 + b ** 2)\n",
    "\n",
    "print(\"Hypotenuse =\", c)"
   ]
  },
  {
   "cell_type": "code",
   "execution_count": 2,
   "id": "36ca9383",
   "metadata": {},
   "outputs": [
    {
     "name": "stdout",
     "output_type": "stream",
     "text": [
      "Enter the string: Universe_is_expanding_continuously.\n",
      "Count of all characters in Universe_is_expanding_continuously. is :\n",
      " {'U': 1, 'n': 5, 'i': 4, 'v': 1, 'e': 3, 'r': 1, 's': 3, '_': 3, 'x': 1, 'p': 1, 'a': 1, 'd': 1, 'g': 1, 'c': 1, 'o': 2, 't': 1, 'u': 2, 'l': 1, 'y': 1, '.': 1}\n"
     ]
    }
   ],
   "source": [
    "test_str =input(\"Enter the string: \")\n",
    "  \n",
    "# using naive method to get count \n",
    "# of each element in string \n",
    "all_freq = {}\n",
    "  \n",
    "for i in test_str:\n",
    "    if i in all_freq:\n",
    "        all_freq[i] += 1\n",
    "    else:\n",
    "        all_freq[i] = 1\n",
    "  \n",
    "# printing result \n",
    "print (\"Count of all characters in\",test_str,\"is :\\n \"\n",
    "                                        +  str(all_freq))"
   ]
  },
  {
   "cell_type": "code",
   "execution_count": null,
   "id": "6c87f5cf",
   "metadata": {},
   "outputs": [],
   "source": []
  },
  {
   "cell_type": "code",
   "execution_count": null,
   "id": "d4895238",
   "metadata": {},
   "outputs": [],
   "source": []
  }
 ],
 "metadata": {
  "kernelspec": {
   "display_name": "Python 3 (ipykernel)",
   "language": "python",
   "name": "python3"
  },
  "language_info": {
   "codemirror_mode": {
    "name": "ipython",
    "version": 3
   },
   "file_extension": ".py",
   "mimetype": "text/x-python",
   "name": "python",
   "nbconvert_exporter": "python",
   "pygments_lexer": "ipython3",
   "version": "3.9.7"
  }
 },
 "nbformat": 4,
 "nbformat_minor": 5
}
